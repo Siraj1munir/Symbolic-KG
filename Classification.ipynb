{
 "cells": [
  {
   "cell_type": "code",
   "execution_count": 1,
   "id": "6497d6a3",
   "metadata": {},
   "outputs": [
    {
     "name": "stdout",
     "output_type": "stream",
     "text": [
      "Accuracy: 0.93\n",
      "F1: 0.93\n",
      "CART performance (3 rules):\n",
      "Accuracy = 0.86\n",
      "Fidelity = 0.88\n",
      "F1 = 0.82\n",
      "F1 = 0.85\n",
      "\n",
      "\n",
      "CART extracted rules:\n",
      "\n",
      "class(C1, C10, C100, C11, C12, C13, C14, C15, C16, C17, C18, C19, C2, C20, C21, C22, C23, C24, C25, C26, C27, C28, C29, C3, C30, C31, C32, C33, C34, C35, C36, C37, C38, C39, C4, C40, C41, C42, C43, C44, C45, C46, C47, C48, C49, C5, C50, C51, C52, C53, C54, C55, C56, C57, C58, C59, C6, C60, C61, C62, C63, C64, C65, C66, C67, C68, C69, C7, C70, C71, C72, C73, C74, C75, C76, C77, C78, C79, C8, C80, C81, C82, C83, C84, C85, C86, C87, C88, C89, C9, C90, C91, C92, C93, C94, C95, C96, C97, C98, C99, Reason_C1, Reason_C10, Reason_C100, Reason_C11, Reason_C12, Reason_C13, Reason_C14, Reason_C15, Reason_C16, Reason_C17, Reason_C18, Reason_C19, Reason_C2, Reason_C20, Reason_C21, Reason_C22, Reason_C23, Reason_C24, Reason_C25, Reason_C26, Reason_C27, Reason_C28, Reason_C29, Reason_C3, Reason_C30, Reason_C31, Reason_C32, Reason_C33, Reason_C34, Reason_C35, Reason_C36, Reason_C37, Reason_C38, Reason_C39, Reason_C4, Reason_C40, Reason_C41, Reason_C42, Reason_C43, Reason_C44, Reason_C45, Reason_C46, Reason_C47, Reason_C48, Reason_C49, Reason_C5, Reason_C50, Reason_C51, Reason_C52, Reason_C53, Reason_C54, Reason_C55, Reason_C56, Reason_C57, Reason_C58, Reason_C59, Reason_C6, Reason_C60, Reason_C61, Reason_C62, Reason_C63, Reason_C64, Reason_C65, Reason_C66, Reason_C67, Reason_C68, Reason_C69, Reason_C7, Reason_C70, Reason_C71, Reason_C72, Reason_C73, Reason_C74, Reason_C75, Reason_C76, Reason_C77, Reason_C78, Reason_C79, Reason_C8, Reason_C80, Reason_C81, Reason_C82, Reason_C83, Reason_C84, Reason_C85, Reason_C86, Reason_C87, Reason_C88, Reason_C89, Reason_C9, Reason_C90, Reason_C91, Reason_C92, Reason_C93, Reason_C94, Reason_C95, Reason_C96, Reason_C97, Reason_C98, Reason_C99, '2') :-\n",
      "    Reason_C35 =< 0.00.\n",
      "class(C1, C10, C100, C11, C12, C13, C14, C15, C16, C17, C18, C19, C2, C20, C21, C22, C23, C24, C25, C26, C27, C28, C29, C3, C30, C31, C32, C33, C34, C35, C36, C37, C38, C39, C4, C40, C41, C42, C43, C44, C45, C46, C47, C48, C49, C5, C50, C51, C52, C53, C54, C55, C56, C57, C58, C59, C6, C60, C61, C62, C63, C64, C65, C66, C67, C68, C69, C7, C70, C71, C72, C73, C74, C75, C76, C77, C78, C79, C8, C80, C81, C82, C83, C84, C85, C86, C87, C88, C89, C9, C90, C91, C92, C93, C94, C95, C96, C97, C98, C99, Reason_C1, Reason_C10, Reason_C100, Reason_C11, Reason_C12, Reason_C13, Reason_C14, Reason_C15, Reason_C16, Reason_C17, Reason_C18, Reason_C19, Reason_C2, Reason_C20, Reason_C21, Reason_C22, Reason_C23, Reason_C24, Reason_C25, Reason_C26, Reason_C27, Reason_C28, Reason_C29, Reason_C3, Reason_C30, Reason_C31, Reason_C32, Reason_C33, Reason_C34, Reason_C35, Reason_C36, Reason_C37, Reason_C38, Reason_C39, Reason_C4, Reason_C40, Reason_C41, Reason_C42, Reason_C43, Reason_C44, Reason_C45, Reason_C46, Reason_C47, Reason_C48, Reason_C49, Reason_C5, Reason_C50, Reason_C51, Reason_C52, Reason_C53, Reason_C54, Reason_C55, Reason_C56, Reason_C57, Reason_C58, Reason_C59, Reason_C6, Reason_C60, Reason_C61, Reason_C62, Reason_C63, Reason_C64, Reason_C65, Reason_C66, Reason_C67, Reason_C68, Reason_C69, Reason_C7, Reason_C70, Reason_C71, Reason_C72, Reason_C73, Reason_C74, Reason_C75, Reason_C76, Reason_C77, Reason_C78, Reason_C79, Reason_C8, Reason_C80, Reason_C81, Reason_C82, Reason_C83, Reason_C84, Reason_C85, Reason_C86, Reason_C87, Reason_C88, Reason_C89, Reason_C9, Reason_C90, Reason_C91, Reason_C92, Reason_C93, Reason_C94, Reason_C95, Reason_C96, Reason_C97, Reason_C98, Reason_C99, '3') :-\n",
      "    Reason_C89 =< 0.06.\n",
      "class(C1, C10, C100, C11, C12, C13, C14, C15, C16, C17, C18, C19, C2, C20, C21, C22, C23, C24, C25, C26, C27, C28, C29, C3, C30, C31, C32, C33, C34, C35, C36, C37, C38, C39, C4, C40, C41, C42, C43, C44, C45, C46, C47, C48, C49, C5, C50, C51, C52, C53, C54, C55, C56, C57, C58, C59, C6, C60, C61, C62, C63, C64, C65, C66, C67, C68, C69, C7, C70, C71, C72, C73, C74, C75, C76, C77, C78, C79, C8, C80, C81, C82, C83, C84, C85, C86, C87, C88, C89, C9, C90, C91, C92, C93, C94, C95, C96, C97, C98, C99, Reason_C1, Reason_C10, Reason_C100, Reason_C11, Reason_C12, Reason_C13, Reason_C14, Reason_C15, Reason_C16, Reason_C17, Reason_C18, Reason_C19, Reason_C2, Reason_C20, Reason_C21, Reason_C22, Reason_C23, Reason_C24, Reason_C25, Reason_C26, Reason_C27, Reason_C28, Reason_C29, Reason_C3, Reason_C30, Reason_C31, Reason_C32, Reason_C33, Reason_C34, Reason_C35, Reason_C36, Reason_C37, Reason_C38, Reason_C39, Reason_C4, Reason_C40, Reason_C41, Reason_C42, Reason_C43, Reason_C44, Reason_C45, Reason_C46, Reason_C47, Reason_C48, Reason_C49, Reason_C5, Reason_C50, Reason_C51, Reason_C52, Reason_C53, Reason_C54, Reason_C55, Reason_C56, Reason_C57, Reason_C58, Reason_C59, Reason_C6, Reason_C60, Reason_C61, Reason_C62, Reason_C63, Reason_C64, Reason_C65, Reason_C66, Reason_C67, Reason_C68, Reason_C69, Reason_C7, Reason_C70, Reason_C71, Reason_C72, Reason_C73, Reason_C74, Reason_C75, Reason_C76, Reason_C77, Reason_C78, Reason_C79, Reason_C8, Reason_C80, Reason_C81, Reason_C82, Reason_C83, Reason_C84, Reason_C85, Reason_C86, Reason_C87, Reason_C88, Reason_C89, Reason_C9, Reason_C90, Reason_C91, Reason_C92, Reason_C93, Reason_C94, Reason_C95, Reason_C96, Reason_C97, Reason_C98, Reason_C99, '2').\n"
     ]
    }
   ],
   "source": [
    "from sklearn.model_selection import train_test_split\n",
    "from sklearn.datasets import load_iris\n",
    "import pandas as pd\n",
    "from sklearn.neighbors import KNeighborsClassifier\n",
    "from sklearn.tree import DecisionTreeClassifier\n",
    "from sklearn.neural_network import MLPClassifier\n",
    "from sklearn.metrics import accuracy_score, f1_score\n",
    "from psyke import Extractor\n",
    "from psyke.extraction.hypercubic.strategy import AdaptiveStrategy\n",
    "from psyke.extraction.hypercubic import Grid, FeatureRanker\n",
    "from psyke.utils.logic import pretty_theory\n",
    "from psyke.utils import Target\n",
    "\n",
    "\n",
    "dataset = pd.read_csv('dataset_vec - Copy.csv')\n",
    "\n",
    "\n",
    "\n",
    "x= dataset.drop('Class', axis =1)\n",
    "y = dataset['Class']\n",
    "dataset = x.join(y)\n",
    "dataset.columns = [*dataset.columns[:-1], 'class']\n",
    "\n",
    "train, test = train_test_split(dataset, test_size=0.5, random_state=0)\n",
    "#predictor = MLPClassifier(alpha=1, max_iter=1000)\n",
    "predictor = KNeighborsClassifier(n_neighbors=5)\n",
    "#predictor = DecisionTreeClassifier()\n",
    "predictor.fit(train.iloc[:, :-1], train.iloc[:, -1])\n",
    "print(f'Accuracy: {accuracy_score(predictor.predict(test.iloc[:, :-1]), test.iloc[:, -1]):.2f}')\n",
    "print(f'F1: {f1_score(predictor.predict(test.iloc[:, :-1]), test.iloc[:, -1], average=\"weighted\"):.2f}')\n",
    "\n",
    "\n",
    "cart = Extractor.cart(predictor, simplify=True)\n",
    "theory_from_cart = cart.extract(train)\n",
    "print('CART performance ({} rules):\\nAccuracy = {:.2f}\\nFidelity = {:.2f}\\nF1 = {:.2f}\\nF1 = {:.2f}\\n'\n",
    "      .format(cart.n_rules, cart.accuracy(test), cart.accuracy(test, predictor),\n",
    "              cart.f1(test), cart.f1(test, predictor)))\n",
    "print('\\nCART extracted rules:\\n\\n' + pretty_theory(theory_from_cart))\n"
   ]
  },
  {
   "cell_type": "code",
   "execution_count": 3,
   "id": "80901215",
   "metadata": {},
   "outputs": [
    {
     "name": "stdout",
     "output_type": "stream",
     "text": [
      "GridEx performance (4 rules):\n",
      "Accuracy = 0.86\n",
      "Accuracy fidelity = 0.87\n",
      "F1 = 0.82\n",
      "F1 = 0.84\n",
      "\n",
      "GridEx extracted rules:\n",
      "\n",
      "class(C1, C10, C100, C11, C12, C13, C14, C15, C16, C17, C18, C19, C2, C20, C21, C22, C23, C24, C25, C26, C27, C28, C29, C3, C30, C31, C32, C33, C34, C35, C36, C37, C38, C39, C4, C40, C41, C42, C43, C44, C45, C46, C47, C48, C49, C5, C50, C51, C52, C53, C54, C55, C56, C57, C58, C59, C6, C60, C61, C62, C63, C64, C65, C66, C67, C68, C69, C7, C70, C71, C72, C73, C74, C75, C76, C77, C78, C79, C8, C80, C81, C82, C83, C84, C85, C86, C87, C88, C89, C9, C90, C91, C92, C93, C94, C95, C96, C97, C98, C99, Reason_C1, Reason_C10, Reason_C100, Reason_C11, Reason_C12, Reason_C13, Reason_C14, Reason_C15, Reason_C16, Reason_C17, Reason_C18, Reason_C19, Reason_C2, Reason_C20, Reason_C21, Reason_C22, Reason_C23, Reason_C24, Reason_C25, Reason_C26, Reason_C27, Reason_C28, Reason_C29, Reason_C3, Reason_C30, Reason_C31, Reason_C32, Reason_C33, Reason_C34, Reason_C35, Reason_C36, Reason_C37, Reason_C38, Reason_C39, Reason_C4, Reason_C40, Reason_C41, Reason_C42, Reason_C43, Reason_C44, Reason_C45, Reason_C46, Reason_C47, Reason_C48, Reason_C49, Reason_C5, Reason_C50, Reason_C51, Reason_C52, Reason_C53, Reason_C54, Reason_C55, Reason_C56, Reason_C57, Reason_C58, Reason_C59, Reason_C6, Reason_C60, Reason_C61, Reason_C62, Reason_C63, Reason_C64, Reason_C65, Reason_C66, Reason_C67, Reason_C68, Reason_C69, Reason_C7, Reason_C70, Reason_C71, Reason_C72, Reason_C73, Reason_C74, Reason_C75, Reason_C76, Reason_C77, Reason_C78, Reason_C79, Reason_C8, Reason_C80, Reason_C81, Reason_C82, Reason_C83, Reason_C84, Reason_C85, Reason_C86, Reason_C87, Reason_C88, Reason_C89, Reason_C9, Reason_C90, Reason_C91, Reason_C92, Reason_C93, Reason_C94, Reason_C95, Reason_C96, Reason_C97, Reason_C98, Reason_C99, '2') :-\n",
      "    C1 in [-0.23, 0.03], C2 in [-0.07, 0.18], C5 in [-0.12, 0.08], C6 in [-0.10, 0.01], C7 in [-0.37, -0.06], C8 in [-0.09, 0.08], C9 in [-0.19, 0.14], C13 in [-0.10, 0.00], C14 in [-0.16, -0.00], C15 in [-0.17, 0.08], C16 in [-0.13, -0.00], C19 in [-0.11, 0.02], C22 in [-0.04, 0.20], C26 in [-0.03, 0.14], C28 in [-0.21, 0.01], C30 in [-0.18, -0.01], C31 in [-0.25, -0.04], C33 in [-0.18, 0.00], C37 in [-0.12, 0.00], C38 in [-0.10, 0.04], C41 in [-0.12, 0.04], C42 in [-0.10, 0.01], C49 in [-0.09, -0.00], C50 in [-0.17, -0.00], C51 in [-0.15, -0.01], C53 in [-0.06, 0.01], C54 in [-0.07, 0.17], C55 in [-0.05, 0.09], C56 in [-0.14, 0.00], C58 in [-0.13, 0.12], C59 in [-0.14, -0.00], C65 in [-0.05, 0.10], C67 in [-0.19, -0.01], C70 in [-0.14, -0.01], C71 in [-0.02, 0.05], C73 in [-0.06, 0.04], C75 in [-0.09, -0.01], C78 in [-0.02, 0.11], C80 in [-0.03, 0.03], C81 in [-0.09, 0.13], C83 in [-0.11, 0.00], C86 in [-0.06, 0.03], C88 in [-0.13, -0.01], C94 in [-0.21, -0.02], C96 in [-0.13, 0.00], C98 in [-0.09, 0.09], C99 in [-0.07, 0.03], C100 in [-0.18, 0.02], Reason_C1 in [-0.21, 0.03], Reason_C2 in [-0.04, 0.16], Reason_C5 in [-0.11, 0.07], Reason_C6 in [-0.10, 0.02], Reason_C7 in [-0.37, -0.04], Reason_C13 in [-0.09, -0.00], Reason_C14 in [-0.15, -0.00], Reason_C16 in [-0.12, 0.00], Reason_C19 in [-0.10, 0.02], Reason_C21 in [-0.10, 0.05], Reason_C27 in [-0.11, 0.00], Reason_C28 in [-0.19, 0.00], Reason_C30 in [-0.17, -0.01], Reason_C31 in [-0.23, -0.01], Reason_C32 in [-0.19, 0.01], Reason_C33 in [-0.16, 0.00], Reason_C35 in [0.03, 0.04], Reason_C37 in [-0.11, 0.00], Reason_C38 in [-0.08, 0.04], Reason_C41 in [-0.11, 0.04], Reason_C42 in [-0.09, 0.00], Reason_C44 in [-0.04, 0.02], Reason_C46 in [-0.01, 0.08], Reason_C48 in [-0.03, 0.08], Reason_C49 in [-0.08, -0.00], Reason_C50 in [-0.16, 0.01], Reason_C51 in [-0.14, -0.00], Reason_C53 in [-0.06, 0.00], Reason_C56 in [-0.12, -0.00], Reason_C57 in [-0.06, 0.12], Reason_C59 in [-0.12, -0.00], Reason_C61 in [-0.12, 0.19], Reason_C62 in [-0.04, 0.01], Reason_C65 in [-0.04, 0.09], Reason_C67 in [-0.18, -0.01], Reason_C70 in [-0.13, -0.00], Reason_C75 in [-0.08, -0.01], Reason_C78 in [-0.02, 0.11], Reason_C81 in [-0.07, 0.12], Reason_C83 in [-0.10, 0.00], Reason_C86 in [-0.06, 0.02], Reason_C87 in [-0.05, 0.02], Reason_C88 in [-0.12, -0.01], Reason_C89 in [-0.09, 0.21], Reason_C93 in [-0.08, 0.10], Reason_C94 in [-0.20, -0.00], Reason_C96 in [-0.12, -0.00], Reason_C99 in [-0.06, 0.03], Reason_C100 in [-0.16, 0.00].\n",
      "class(C1, C10, C100, C11, C12, C13, C14, C15, C16, C17, C18, C19, C2, C20, C21, C22, C23, C24, C25, C26, C27, C28, C29, C3, C30, C31, C32, C33, C34, C35, C36, C37, C38, C39, C4, C40, C41, C42, C43, C44, C45, C46, C47, C48, C49, C5, C50, C51, C52, C53, C54, C55, C56, C57, C58, C59, C6, C60, C61, C62, C63, C64, C65, C66, C67, C68, C69, C7, C70, C71, C72, C73, C74, C75, C76, C77, C78, C79, C8, C80, C81, C82, C83, C84, C85, C86, C87, C88, C89, C9, C90, C91, C92, C93, C94, C95, C96, C97, C98, C99, Reason_C1, Reason_C10, Reason_C100, Reason_C11, Reason_C12, Reason_C13, Reason_C14, Reason_C15, Reason_C16, Reason_C17, Reason_C18, Reason_C19, Reason_C2, Reason_C20, Reason_C21, Reason_C22, Reason_C23, Reason_C24, Reason_C25, Reason_C26, Reason_C27, Reason_C28, Reason_C29, Reason_C3, Reason_C30, Reason_C31, Reason_C32, Reason_C33, Reason_C34, Reason_C35, Reason_C36, Reason_C37, Reason_C38, Reason_C39, Reason_C4, Reason_C40, Reason_C41, Reason_C42, Reason_C43, Reason_C44, Reason_C45, Reason_C46, Reason_C47, Reason_C48, Reason_C49, Reason_C5, Reason_C50, Reason_C51, Reason_C52, Reason_C53, Reason_C54, Reason_C55, Reason_C56, Reason_C57, Reason_C58, Reason_C59, Reason_C6, Reason_C60, Reason_C61, Reason_C62, Reason_C63, Reason_C64, Reason_C65, Reason_C66, Reason_C67, Reason_C68, Reason_C69, Reason_C7, Reason_C70, Reason_C71, Reason_C72, Reason_C73, Reason_C74, Reason_C75, Reason_C76, Reason_C77, Reason_C78, Reason_C79, Reason_C8, Reason_C80, Reason_C81, Reason_C82, Reason_C83, Reason_C84, Reason_C85, Reason_C86, Reason_C87, Reason_C88, Reason_C89, Reason_C9, Reason_C90, Reason_C91, Reason_C92, Reason_C93, Reason_C94, Reason_C95, Reason_C96, Reason_C97, Reason_C98, Reason_C99, 'Continent') :-\n",
      "    C1 in [-0.23, 0.03], C2 in [-0.07, 0.18], C5 in [-0.12, 0.08], C6 in [-0.10, 0.01], C7 in [-0.37, -0.06], C8 in [-0.09, 0.08], C9 in [-0.19, 0.14], C13 in [-0.10, 0.00], C14 in [-0.16, -0.00], C15 in [-0.17, 0.08], C16 in [-0.13, -0.00], C19 in [-0.11, 0.02], C22 in [-0.04, 0.20], C26 in [-0.03, 0.14], C28 in [-0.21, 0.01], C30 in [-0.18, -0.01], C31 in [-0.25, -0.04], C33 in [-0.18, 0.00], C37 in [-0.12, 0.00], C38 in [-0.10, 0.04], C41 in [-0.12, 0.04], C42 in [-0.10, 0.01], C49 in [-0.09, -0.00], C50 in [-0.17, -0.00], C51 in [-0.15, -0.01], C53 in [-0.06, 0.01], C54 in [-0.07, 0.17], C55 in [-0.05, 0.09], C56 in [-0.14, 0.00], C58 in [-0.13, 0.12], C59 in [-0.14, -0.00], C65 in [-0.05, 0.10], C67 in [-0.19, -0.01], C70 in [-0.14, -0.01], C71 in [-0.02, 0.05], C73 in [-0.06, 0.04], C75 in [-0.09, -0.01], C78 in [-0.02, 0.11], C80 in [-0.03, 0.03], C81 in [-0.09, 0.13], C83 in [-0.11, 0.00], C86 in [-0.06, 0.03], C88 in [-0.13, -0.01], C94 in [-0.21, -0.02], C96 in [-0.13, 0.00], C98 in [-0.09, 0.09], C99 in [-0.07, 0.03], C100 in [-0.18, 0.02], Reason_C1 in [-0.21, 0.03], Reason_C2 in [-0.04, 0.16], Reason_C5 in [-0.11, 0.07], Reason_C6 in [-0.10, 0.02], Reason_C7 in [-0.37, -0.04], Reason_C13 in [-0.09, -0.00], Reason_C14 in [-0.15, -0.00], Reason_C16 in [-0.12, 0.00], Reason_C19 in [-0.10, 0.02], Reason_C21 in [-0.10, 0.05], Reason_C27 in [-0.11, 0.00], Reason_C28 in [-0.19, 0.00], Reason_C30 in [-0.17, -0.01], Reason_C31 in [-0.23, -0.01], Reason_C32 in [-0.19, 0.01], Reason_C33 in [-0.16, 0.00], Reason_C35 in [0.04, 0.05], Reason_C37 in [-0.11, 0.00], Reason_C38 in [-0.08, 0.04], Reason_C41 in [-0.11, 0.04], Reason_C42 in [-0.09, 0.00], Reason_C44 in [-0.04, 0.02], Reason_C46 in [-0.01, 0.08], Reason_C48 in [-0.03, 0.08], Reason_C49 in [-0.08, -0.00], Reason_C50 in [-0.16, 0.01], Reason_C51 in [-0.14, -0.00], Reason_C53 in [-0.06, 0.00], Reason_C56 in [-0.12, -0.00], Reason_C57 in [-0.06, 0.12], Reason_C59 in [-0.12, -0.00], Reason_C61 in [-0.12, 0.19], Reason_C62 in [-0.04, 0.01], Reason_C65 in [-0.04, 0.09], Reason_C67 in [-0.18, -0.01], Reason_C70 in [-0.13, -0.00], Reason_C75 in [-0.08, -0.01], Reason_C78 in [-0.02, 0.11], Reason_C81 in [-0.07, 0.12], Reason_C83 in [-0.10, 0.00], Reason_C86 in [-0.06, 0.02], Reason_C87 in [-0.05, 0.02], Reason_C88 in [-0.12, -0.01], Reason_C89 in [-0.09, 0.21], Reason_C93 in [-0.08, 0.10], Reason_C94 in [-0.20, -0.00], Reason_C96 in [-0.12, -0.00], Reason_C99 in [-0.06, 0.03], Reason_C100 in [-0.16, 0.00].\n",
      "class(C1, C10, C100, C11, C12, C13, C14, C15, C16, C17, C18, C19, C2, C20, C21, C22, C23, C24, C25, C26, C27, C28, C29, C3, C30, C31, C32, C33, C34, C35, C36, C37, C38, C39, C4, C40, C41, C42, C43, C44, C45, C46, C47, C48, C49, C5, C50, C51, C52, C53, C54, C55, C56, C57, C58, C59, C6, C60, C61, C62, C63, C64, C65, C66, C67, C68, C69, C7, C70, C71, C72, C73, C74, C75, C76, C77, C78, C79, C8, C80, C81, C82, C83, C84, C85, C86, C87, C88, C89, C9, C90, C91, C92, C93, C94, C95, C96, C97, C98, C99, Reason_C1, Reason_C10, Reason_C100, Reason_C11, Reason_C12, Reason_C13, Reason_C14, Reason_C15, Reason_C16, Reason_C17, Reason_C18, Reason_C19, Reason_C2, Reason_C20, Reason_C21, Reason_C22, Reason_C23, Reason_C24, Reason_C25, Reason_C26, Reason_C27, Reason_C28, Reason_C29, Reason_C3, Reason_C30, Reason_C31, Reason_C32, Reason_C33, Reason_C34, Reason_C35, Reason_C36, Reason_C37, Reason_C38, Reason_C39, Reason_C4, Reason_C40, Reason_C41, Reason_C42, Reason_C43, Reason_C44, Reason_C45, Reason_C46, Reason_C47, Reason_C48, Reason_C49, Reason_C5, Reason_C50, Reason_C51, Reason_C52, Reason_C53, Reason_C54, Reason_C55, Reason_C56, Reason_C57, Reason_C58, Reason_C59, Reason_C6, Reason_C60, Reason_C61, Reason_C62, Reason_C63, Reason_C64, Reason_C65, Reason_C66, Reason_C67, Reason_C68, Reason_C69, Reason_C7, Reason_C70, Reason_C71, Reason_C72, Reason_C73, Reason_C74, Reason_C75, Reason_C76, Reason_C77, Reason_C78, Reason_C79, Reason_C8, Reason_C80, Reason_C81, Reason_C82, Reason_C83, Reason_C84, Reason_C85, Reason_C86, Reason_C87, Reason_C88, Reason_C89, Reason_C9, Reason_C90, Reason_C91, Reason_C92, Reason_C93, Reason_C94, Reason_C95, Reason_C96, Reason_C97, Reason_C98, Reason_C99, '3') :-\n",
      "    C1 in [-0.23, 0.03], C2 in [-0.07, 0.18], C5 in [-0.12, 0.08], C6 in [-0.10, 0.01], C7 in [-0.37, -0.06], C8 in [-0.09, 0.08], C9 in [-0.19, 0.14], C13 in [-0.10, 0.00], C14 in [-0.16, -0.00], C15 in [-0.17, 0.08], C16 in [-0.13, -0.00], C19 in [-0.11, 0.02], C22 in [-0.04, 0.20], C26 in [-0.03, 0.14], C28 in [-0.21, 0.01], C30 in [-0.18, -0.01], C31 in [-0.25, -0.04], C33 in [-0.18, 0.00], C37 in [-0.12, 0.00], C38 in [-0.10, 0.04], C41 in [-0.12, 0.04], C42 in [-0.10, 0.01], C49 in [-0.09, -0.00], C50 in [-0.17, -0.00], C51 in [-0.15, -0.01], C53 in [-0.06, 0.01], C54 in [-0.07, 0.17], C55 in [-0.05, 0.09], C56 in [-0.14, 0.00], C58 in [-0.13, 0.12], C59 in [-0.14, -0.00], C65 in [-0.05, 0.10], C67 in [-0.19, -0.01], C70 in [-0.14, -0.01], C71 in [-0.02, 0.05], C73 in [-0.06, 0.04], C75 in [-0.09, -0.01], C78 in [-0.02, 0.11], C80 in [-0.03, 0.03], C81 in [-0.09, 0.13], C83 in [-0.11, 0.00], C86 in [-0.06, 0.03], C88 in [-0.13, -0.01], C94 in [-0.21, -0.02], C96 in [-0.13, 0.00], C98 in [-0.09, 0.09], C99 in [-0.07, 0.03], C100 in [-0.18, 0.02], Reason_C1 in [-0.21, 0.03], Reason_C2 in [-0.04, 0.16], Reason_C5 in [-0.11, 0.07], Reason_C6 in [-0.10, 0.02], Reason_C7 in [-0.37, -0.04], Reason_C13 in [-0.09, -0.00], Reason_C14 in [-0.15, -0.00], Reason_C16 in [-0.12, 0.00], Reason_C19 in [-0.10, 0.02], Reason_C21 in [-0.10, 0.05], Reason_C27 in [-0.11, 0.00], Reason_C28 in [-0.19, 0.00], Reason_C30 in [-0.17, -0.01], Reason_C31 in [-0.23, -0.01], Reason_C32 in [-0.19, 0.01], Reason_C33 in [-0.16, 0.00], Reason_C35 in [0.00, 0.03], Reason_C37 in [-0.11, 0.00], Reason_C38 in [-0.08, 0.04], Reason_C41 in [-0.11, 0.04], Reason_C42 in [-0.09, 0.00], Reason_C44 in [-0.04, 0.02], Reason_C46 in [-0.01, 0.08], Reason_C48 in [-0.03, 0.08], Reason_C49 in [-0.08, -0.00], Reason_C50 in [-0.16, 0.01], Reason_C51 in [-0.14, -0.00], Reason_C53 in [-0.06, 0.00], Reason_C56 in [-0.12, -0.00], Reason_C57 in [-0.06, 0.12], Reason_C59 in [-0.12, -0.00], Reason_C61 in [-0.12, 0.19], Reason_C62 in [-0.04, 0.01], Reason_C65 in [-0.04, 0.09], Reason_C67 in [-0.18, -0.01], Reason_C70 in [-0.13, -0.00], Reason_C75 in [-0.08, -0.01], Reason_C78 in [-0.02, 0.11], Reason_C81 in [-0.07, 0.12], Reason_C83 in [-0.10, 0.00], Reason_C86 in [-0.06, 0.02], Reason_C87 in [-0.05, 0.02], Reason_C88 in [-0.12, -0.01], Reason_C89 in [-0.09, 0.21], Reason_C93 in [-0.08, 0.10], Reason_C94 in [-0.20, -0.00], Reason_C96 in [-0.12, -0.00], Reason_C99 in [-0.06, 0.03], Reason_C100 in [-0.16, 0.00].\n",
      "class(C1, C10, C100, C11, C12, C13, C14, C15, C16, C17, C18, C19, C2, C20, C21, C22, C23, C24, C25, C26, C27, C28, C29, C3, C30, C31, C32, C33, C34, C35, C36, C37, C38, C39, C4, C40, C41, C42, C43, C44, C45, C46, C47, C48, C49, C5, C50, C51, C52, C53, C54, C55, C56, C57, C58, C59, C6, C60, C61, C62, C63, C64, C65, C66, C67, C68, C69, C7, C70, C71, C72, C73, C74, C75, C76, C77, C78, C79, C8, C80, C81, C82, C83, C84, C85, C86, C87, C88, C89, C9, C90, C91, C92, C93, C94, C95, C96, C97, C98, C99, Reason_C1, Reason_C10, Reason_C100, Reason_C11, Reason_C12, Reason_C13, Reason_C14, Reason_C15, Reason_C16, Reason_C17, Reason_C18, Reason_C19, Reason_C2, Reason_C20, Reason_C21, Reason_C22, Reason_C23, Reason_C24, Reason_C25, Reason_C26, Reason_C27, Reason_C28, Reason_C29, Reason_C3, Reason_C30, Reason_C31, Reason_C32, Reason_C33, Reason_C34, Reason_C35, Reason_C36, Reason_C37, Reason_C38, Reason_C39, Reason_C4, Reason_C40, Reason_C41, Reason_C42, Reason_C43, Reason_C44, Reason_C45, Reason_C46, Reason_C47, Reason_C48, Reason_C49, Reason_C5, Reason_C50, Reason_C51, Reason_C52, Reason_C53, Reason_C54, Reason_C55, Reason_C56, Reason_C57, Reason_C58, Reason_C59, Reason_C6, Reason_C60, Reason_C61, Reason_C62, Reason_C63, Reason_C64, Reason_C65, Reason_C66, Reason_C67, Reason_C68, Reason_C69, Reason_C7, Reason_C70, Reason_C71, Reason_C72, Reason_C73, Reason_C74, Reason_C75, Reason_C76, Reason_C77, Reason_C78, Reason_C79, Reason_C8, Reason_C80, Reason_C81, Reason_C82, Reason_C83, Reason_C84, Reason_C85, Reason_C86, Reason_C87, Reason_C88, Reason_C89, Reason_C9, Reason_C90, Reason_C91, Reason_C92, Reason_C93, Reason_C94, Reason_C95, Reason_C96, Reason_C97, Reason_C98, Reason_C99, '2') :-\n",
      "    C1 in [-0.23, 0.03], C2 in [-0.07, 0.18], C5 in [-0.12, 0.08], C6 in [-0.10, 0.01], C7 in [-0.37, -0.06], C8 in [-0.09, 0.08], C9 in [-0.19, 0.14], C13 in [-0.10, 0.00], C14 in [-0.16, -0.00], C15 in [-0.17, 0.08], C16 in [-0.13, -0.00], C19 in [-0.11, 0.02], C22 in [-0.04, 0.20], C26 in [-0.03, 0.14], C28 in [-0.21, 0.01], C30 in [-0.18, -0.01], C31 in [-0.25, -0.04], C33 in [-0.18, 0.00], C37 in [-0.12, 0.00], C38 in [-0.10, 0.04], C41 in [-0.12, 0.04], C42 in [-0.10, 0.01], C49 in [-0.09, -0.00], C50 in [-0.17, -0.00], C51 in [-0.15, -0.01], C53 in [-0.06, 0.01], C54 in [-0.07, 0.17], C55 in [-0.05, 0.09], C56 in [-0.14, 0.00], C58 in [-0.13, 0.12], C59 in [-0.14, -0.00], C65 in [-0.05, 0.10], C67 in [-0.19, -0.01], C70 in [-0.14, -0.01], C71 in [-0.02, 0.05], C73 in [-0.06, 0.04], C75 in [-0.09, -0.01], C78 in [-0.02, 0.11], C80 in [-0.03, 0.03], C81 in [-0.09, 0.13], C83 in [-0.11, 0.00], C86 in [-0.06, 0.03], C88 in [-0.13, -0.01], C94 in [-0.21, -0.02], C96 in [-0.13, 0.00], C98 in [-0.09, 0.09], C99 in [-0.07, 0.03], C100 in [-0.18, 0.02], Reason_C1 in [-0.21, 0.03], Reason_C2 in [-0.04, 0.16], Reason_C5 in [-0.11, 0.07], Reason_C6 in [-0.10, 0.02], Reason_C7 in [-0.37, -0.04], Reason_C13 in [-0.09, -0.00], Reason_C14 in [-0.15, -0.00], Reason_C16 in [-0.12, 0.00], Reason_C19 in [-0.10, 0.02], Reason_C21 in [-0.10, 0.05], Reason_C27 in [-0.11, 0.00], Reason_C28 in [-0.19, 0.00], Reason_C30 in [-0.17, -0.01], Reason_C31 in [-0.23, -0.01], Reason_C32 in [-0.19, 0.01], Reason_C33 in [-0.16, 0.00], Reason_C35 in [-0.04, 0.00], Reason_C37 in [-0.11, 0.00], Reason_C38 in [-0.08, 0.04], Reason_C41 in [-0.11, 0.04], Reason_C42 in [-0.09, 0.00], Reason_C44 in [-0.04, 0.02], Reason_C46 in [-0.01, 0.08], Reason_C48 in [-0.03, 0.08], Reason_C49 in [-0.08, -0.00], Reason_C50 in [-0.16, 0.01], Reason_C51 in [-0.14, -0.00], Reason_C53 in [-0.06, 0.00], Reason_C56 in [-0.12, -0.00], Reason_C57 in [-0.06, 0.12], Reason_C59 in [-0.12, -0.00], Reason_C61 in [-0.12, 0.19], Reason_C62 in [-0.04, 0.01], Reason_C65 in [-0.04, 0.09], Reason_C67 in [-0.18, -0.01], Reason_C70 in [-0.13, -0.00], Reason_C75 in [-0.08, -0.01], Reason_C78 in [-0.02, 0.11], Reason_C81 in [-0.07, 0.12], Reason_C83 in [-0.10, 0.00], Reason_C86 in [-0.06, 0.02], Reason_C87 in [-0.05, 0.02], Reason_C88 in [-0.12, -0.01], Reason_C89 in [-0.09, 0.21], Reason_C93 in [-0.08, 0.10], Reason_C94 in [-0.20, -0.00], Reason_C96 in [-0.12, -0.00], Reason_C99 in [-0.06, 0.03], Reason_C100 in [-0.16, 0.00].\n"
     ]
    }
   ],
   "source": [
    "ranked = FeatureRanker(x.columns).fit(predictor, x).rankings()\n",
    "gridEx = Extractor.gridex(predictor, Grid(1, AdaptiveStrategy(ranked, [(0.85, 8)])), threshold=.1, min_examples=1)\n",
    "theory_from_gridEx = gridEx.extract(train)\n",
    "print('GridEx performance ({} rules):\\nAccuracy = {:.2f}\\nAccuracy fidelity = {:.2f}\\nF1 = {:.2f}\\nF1 = {:.2f}\\n'\n",
    "      .format(gridEx.n_rules, gridEx.accuracy(test), gridEx.accuracy(test, predictor),\n",
    "              gridEx.f1(test), gridEx.f1(test, predictor)))\n",
    "print('GridEx extracted rules:\\n\\n' + pretty_theory(theory_from_gridEx))\n"
   ]
  }
 ],
 "metadata": {
  "kernelspec": {
   "display_name": "Python 3 (ipykernel)",
   "language": "python",
   "name": "python3"
  },
  "language_info": {
   "codemirror_mode": {
    "name": "ipython",
    "version": 3
   },
   "file_extension": ".py",
   "mimetype": "text/x-python",
   "name": "python",
   "nbconvert_exporter": "python",
   "pygments_lexer": "ipython3",
   "version": "3.9.13"
  }
 },
 "nbformat": 4,
 "nbformat_minor": 5
}
